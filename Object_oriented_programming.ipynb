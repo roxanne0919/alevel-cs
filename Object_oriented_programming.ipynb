{
  "nbformat": 4,
  "nbformat_minor": 0,
  "metadata": {
    "colab": {
      "provenance": []
    },
    "kernelspec": {
      "name": "python3",
      "display_name": "Python 3"
    },
    "language_info": {
      "name": "python"
    }
  },
  "cells": [
    {
      "cell_type": "markdown",
      "source": [
        "# Object Oriented Programming"
      ],
      "metadata": {
        "id": "BLJbNGEWPLoB"
      }
    },
    {
      "cell_type": "markdown",
      "source": [
        "## Constructor method"
      ],
      "metadata": {
        "id": "EK_803LRPPh3"
      }
    },
    {
      "cell_type": "code",
      "execution_count": null,
      "metadata": {
        "id": "qfn6AE7lPKnQ"
      },
      "outputs": [],
      "source": [
        "class cat():\n",
        "    # constructor\n",
        "    def __init__(self, name, age, breed):\n",
        "        self.name = name\n",
        "        self.age = age\n",
        "        self.breed = breed\n",
        "\n",
        "    def meow(self):\n",
        "        print(self.name + \" meow!\")\n",
        "\n",
        "    def catInfo(self):\n",
        "        print(f\"{self.name} is a {self.breed} who is {str(self.age)} years old\")\n",
        "\n",
        "myCat = cat(\"Oreo\", 2, \"black cat\")\n",
        "myCat.meow()\n",
        "myCat.catInfo()"
      ]
    },
    {
      "cell_type": "markdown",
      "source": [
        "## Encapsulation"
      ],
      "metadata": {
        "id": "krJrOYYPPZKS"
      }
    },
    {
      "cell_type": "markdown",
      "source": [
        "Declare private attributes with double underscore"
      ],
      "metadata": {
        "id": "vcFnjBm7Qc4t"
      }
    },
    {
      "cell_type": "code",
      "source": [
        "class Person():\n",
        "  def __init__(self, name, age):\n",
        "    self.name = name # public attribute\n",
        "    self.__age = age # private attribute\n",
        "\n",
        "  def show_info(self):\n",
        "    print(f\"Name: {self.name}\")\n",
        "    print(f\"Age: {self.__age}\") # accesseing private attribute from inside the class\n",
        "\n",
        "person_1 = Person(\"John\", 18)"
      ],
      "metadata": {
        "id": "zT_ASu6yPatK"
      },
      "execution_count": null,
      "outputs": []
    },
    {
      "cell_type": "code",
      "source": [
        "person_1.name"
      ],
      "metadata": {
        "colab": {
          "base_uri": "https://localhost:8080/",
          "height": 35
        },
        "id": "8TmReoAQP65j",
        "outputId": "41b88cce-cc4e-4a8d-95ea-65a5aae757b6"
      },
      "execution_count": null,
      "outputs": [
        {
          "output_type": "execute_result",
          "data": {
            "text/plain": [
              "'John'"
            ],
            "application/vnd.google.colaboratory.intrinsic+json": {
              "type": "string"
            }
          },
          "metadata": {},
          "execution_count": 7
        }
      ]
    },
    {
      "cell_type": "markdown",
      "source": [
        "Private attributes cannot be accessed from outside the class"
      ],
      "metadata": {
        "id": "DjhE1NmsRGx4"
      }
    },
    {
      "cell_type": "code",
      "source": [
        "person_1.__age"
      ],
      "metadata": {
        "colab": {
          "base_uri": "https://localhost:8080/",
          "height": 141
        },
        "id": "ki-Z_xcxP8U4",
        "outputId": "280a51a7-cc5b-404f-dc89-2e3f86502379"
      },
      "execution_count": null,
      "outputs": [
        {
          "output_type": "error",
          "ename": "AttributeError",
          "evalue": "'Person' object has no attribute '__age'",
          "traceback": [
            "\u001b[0;31m---------------------------------------------------------------------------\u001b[0m",
            "\u001b[0;31mAttributeError\u001b[0m                            Traceback (most recent call last)",
            "\u001b[0;32m/tmp/ipython-input-8-1721961436.py\u001b[0m in \u001b[0;36m<cell line: 0>\u001b[0;34m()\u001b[0m\n\u001b[0;32m----> 1\u001b[0;31m \u001b[0mperson_1\u001b[0m\u001b[0;34m.\u001b[0m\u001b[0m__age\u001b[0m\u001b[0;34m\u001b[0m\u001b[0;34m\u001b[0m\u001b[0m\n\u001b[0m",
            "\u001b[0;31mAttributeError\u001b[0m: 'Person' object has no attribute '__age'"
          ]
        }
      ]
    },
    {
      "cell_type": "code",
      "source": [
        "person_1.show_info()"
      ],
      "metadata": {
        "colab": {
          "base_uri": "https://localhost:8080/"
        },
        "id": "BFErHrH2P_pY",
        "outputId": "e64a35f9-9050-4588-ee1f-592fa1bf5d2c"
      },
      "execution_count": null,
      "outputs": [
        {
          "output_type": "stream",
          "name": "stdout",
          "text": [
            "Name: John\n",
            "Age: 18\n"
          ]
        }
      ]
    },
    {
      "cell_type": "markdown",
      "source": [
        "## Getter and Setter method\n"
      ],
      "metadata": {
        "id": "C555CnwIR4Ne"
      }
    },
    {
      "cell_type": "markdown",
      "source": [
        "Getter gets value from attribute\n",
        "</br>Setter set new value for attribute"
      ],
      "metadata": {
        "id": "Xh0xPeQMR8ry"
      }
    },
    {
      "cell_type": "code",
      "source": [
        "class Person():\n",
        "  def __init__(self, name, age):\n",
        "    self.name = name\n",
        "    self.__age = age\n",
        "\n",
        "  def show_info(self):\n",
        "    print(f\"Name: {self.name}\")\n",
        "    print(f\"Age: {self.__age}\")\n",
        "\n",
        "  def set_age(self, new_age):\n",
        "    if new_age > 0:\n",
        "      self.__age = new_age\n",
        "    else:\n",
        "      print(\"Invalid age\")\n",
        "\n",
        "person_1 = Person(\"John\", 18)"
      ],
      "metadata": {
        "id": "PW6OmbcRSGP7"
      },
      "execution_count": null,
      "outputs": []
    },
    {
      "cell_type": "code",
      "source": [
        "person_1.show_info()"
      ],
      "metadata": {
        "colab": {
          "base_uri": "https://localhost:8080/"
        },
        "id": "_nezDkTzShKl",
        "outputId": "5a6526e9-2e79-4560-fefa-553545c986b0"
      },
      "execution_count": null,
      "outputs": [
        {
          "output_type": "stream",
          "name": "stdout",
          "text": [
            "Name: John\n",
            "Age: 18\n"
          ]
        }
      ]
    },
    {
      "cell_type": "markdown",
      "source": [
        "Setting a new value for the age of person_1"
      ],
      "metadata": {
        "id": "Nd69rgpMSuT7"
      }
    },
    {
      "cell_type": "code",
      "source": [
        "person_1.set_age(30)"
      ],
      "metadata": {
        "id": "k8WqwHz6SPrl"
      },
      "execution_count": null,
      "outputs": []
    },
    {
      "cell_type": "code",
      "source": [
        "person_1.show_info()"
      ],
      "metadata": {
        "colab": {
          "base_uri": "https://localhost:8080/"
        },
        "id": "mqaJYvc6SnqP",
        "outputId": "9d4b4542-8bbc-47b5-b220-660699728e22"
      },
      "execution_count": null,
      "outputs": [
        {
          "output_type": "stream",
          "name": "stdout",
          "text": [
            "Name: John\n",
            "Age: 30\n"
          ]
        }
      ]
    },
    {
      "cell_type": "markdown",
      "source": [
        "# Inheritance"
      ],
      "metadata": {
        "id": "upuhcaPQSGbL"
      }
    },
    {
      "cell_type": "markdown",
      "source": [
        "\n",
        "\n",
        "*   The derived class can use the properties from the Parent class without redeclaring them\n",
        "*   The derived class can use the methods from the parent class without redeclaring them\n",
        "* can extend the properties from the parent class\n",
        "* can extend the methods from the parent class\n",
        "\n"
      ],
      "metadata": {
        "id": "AnlNStMDSJrc"
      }
    },
    {
      "cell_type": "code",
      "source": [
        "# e.g. - member class is the parent class\n",
        "\n",
        "class Member():\n",
        "    def __init__(self):\n",
        "        self.__MemberName = \"\"\n",
        "        self.__MemberID = \"\"\n",
        "        self.__SubscriptionPaid = False\n",
        "\n",
        "    def SetMemberName(self, MemberNameP):\n",
        "        self.__MemberName = MemberNameP\n",
        "\n",
        "    def SetMemberID(self, MemberIDP):\n",
        "        self.__MemberID = MemberIDP\n",
        "\n",
        "    def SetSubcriptionPaid(self, SubscriptionPaidP):\n",
        "        self.__SubscriptionPaid = SubscriptionPaidP"
      ],
      "metadata": {
        "id": "ixUTg43RSkgE"
      },
      "execution_count": null,
      "outputs": []
    },
    {
      "cell_type": "code",
      "source": [
        "# junior member inherits from parent class - member\n",
        "\n",
        "\n",
        "class JuniorMember(Member):\n",
        "    def __init(self):\n",
        "            super().__init__()\n",
        "            self.__DateOfBirth = \"\"\n",
        "\n",
        "    def SetDateOfBirth(self, DateOfBirthP):\n",
        "            self.__DateOfBirth = DateOfBirthP\n",
        "\n",
        "    def SetMemberName(self, MemberNameP):\n",
        "            super().SetMemberName(MemberNameP)\n",
        "\n",
        "    def SetMemberID(self, MemberIDP):\n",
        "            super().SetMemberID(MemberIDP)\n",
        "\n",
        "    def SetSubscriptionPaid(self, SubscriptionPaidP):\n",
        "            super().SetSubscriptionPaid(SubscriptionPaidP)"
      ],
      "metadata": {
        "id": "RRVjrtLMSrAR"
      },
      "execution_count": null,
      "outputs": []
    },
    {
      "cell_type": "markdown",
      "source": [
        "super() is a built-in python function that provides a way to access methods and attributes of a superclass from a subclass\n",
        "* it is used to call the implementation of a method that is defined in a superclass, which has been overridden in a subclass"
      ],
      "metadata": {
        "id": "QAItw-bIS0gP"
      }
    },
    {
      "cell_type": "code",
      "source": [
        "class vehicle():\n",
        "  def drive(self):\n",
        "    print(\"Driving the vehicle\")\n",
        "\n",
        "\n",
        "class car(vehicle):\n",
        "  def drive(self):\n",
        "    super().drive()\n",
        "    print(\"Driving the car\")"
      ],
      "metadata": {
        "id": "_g1-EtIbT8mj"
      },
      "execution_count": null,
      "outputs": []
    },
    {
      "cell_type": "code",
      "source": [
        "my_car = car()\n",
        "my_car.drive()"
      ],
      "metadata": {
        "colab": {
          "base_uri": "https://localhost:8080/"
        },
        "id": "h9zZqPBYUJec",
        "outputId": "4914ea1f-fd35-4e35-9f92-f5986e45fa06"
      },
      "execution_count": null,
      "outputs": [
        {
          "output_type": "stream",
          "name": "stdout",
          "text": [
            "Driving the vehicle\n",
            "Driving the car\n"
          ]
        }
      ]
    },
    {
      "cell_type": "markdown",
      "source": [
        "# Containment"
      ],
      "metadata": {
        "id": "bpld0rWBVTyu"
      }
    },
    {
      "cell_type": "markdown",
      "source": [
        "containment is a fundamental concept in OOP that refers to the ability to include one object inside another object"
      ],
      "metadata": {
        "id": "mDPUAH_vVa3O"
      }
    },
    {
      "cell_type": "code",
      "source": [
        "class vendingMachines():\n",
        "  def __init__(self, item1, item2, item3, item4):\n",
        "    self.__items = []\n",
        "    self.__items.append(item1)\n",
        "    self.__items.append(item2)\n",
        "    self.__items.append(item3)\n",
        "    self.__items.append(item4)\n",
        "    self.__moneyIn = 0\n",
        "\n",
        "\n",
        "  def checkValid(self, foodItemCode):\n",
        "    found = False\n",
        "    for i in self.__items:\n",
        "      if i.code == foodItemCode:\n",
        "        found = True\n",
        "    if found:\n",
        "      if i.cost < self.__moneyIn:\n",
        "        return -2\n",
        "      elif i.cost >= self.__moneyIn:\n",
        "        return i.cost\n",
        "    else:\n",
        "      return -1"
      ],
      "metadata": {
        "colab": {
          "base_uri": "https://localhost:8080/",
          "height": 106
        },
        "id": "ZxKSMWcxVieS",
        "outputId": "d6b97128-680f-4299-b556-07aacf3a5c09"
      },
      "execution_count": null,
      "outputs": [
        {
          "output_type": "error",
          "ename": "SyntaxError",
          "evalue": "incomplete input (ipython-input-11-3714137360.py, line 16)",
          "traceback": [
            "\u001b[0;36m  File \u001b[0;32m\"/tmp/ipython-input-11-3714137360.py\"\u001b[0;36m, line \u001b[0;32m16\u001b[0m\n\u001b[0;31m    if found:\u001b[0m\n\u001b[0m              ^\u001b[0m\n\u001b[0;31mSyntaxError\u001b[0m\u001b[0;31m:\u001b[0m incomplete input\n"
          ]
        }
      ]
    },
    {
      "cell_type": "code",
      "source": [],
      "metadata": {
        "id": "C33ogGUhWYJI"
      },
      "execution_count": null,
      "outputs": []
    }
  ]
}