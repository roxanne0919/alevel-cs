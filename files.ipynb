{
 "cells": [
  {
   "cell_type": "markdown",
   "id": "8ad49fb9",
   "metadata": {},
   "source": [
    "# Reading from a file"
   ]
  },
  {
   "cell_type": "markdown",
   "id": "3dc283c7",
   "metadata": {},
   "source": [
    "### reading all lines"
   ]
  },
  {
   "cell_type": "code",
   "execution_count": 18,
   "id": "1fabf21f",
   "metadata": {},
   "outputs": [
    {
     "name": "stdout",
     "output_type": "stream",
     "text": [
      "Hello world!\n",
      "Goodbye\n"
     ]
    }
   ],
   "source": [
    "file = open(\"mytext.txt\", \"r\")\n",
    "text = file.read()\n",
    "print(text)\n",
    "file.close()"
   ]
  },
  {
   "cell_type": "markdown",
   "id": "d08b22f8",
   "metadata": {},
   "source": [
    "### reading line by line"
   ]
  },
  {
   "cell_type": "code",
   "execution_count": 17,
   "id": "ffe9f690",
   "metadata": {},
   "outputs": [
    {
     "name": "stdout",
     "output_type": "stream",
     "text": [
      "Hello world!\n",
      " Goodbye\n"
     ]
    }
   ],
   "source": [
    "file = open(\"mytext.txt\", \"r\")\n",
    "line1 = file.readline()\n",
    "line2 = file.readline()\n",
    "file.close()\n",
    "print(line1, line2)"
   ]
  },
  {
   "cell_type": "markdown",
   "id": "7effc353",
   "metadata": {},
   "source": [
    "### Question: \n",
    "#### find the sum of scores of all the players in the file HighScore.txt"
   ]
  },
  {
   "cell_type": "code",
   "execution_count": 20,
   "id": "13318bfe",
   "metadata": {},
   "outputs": [
    {
     "name": "stdout",
     "output_type": "stream",
     "text": [
      "72515\n"
     ]
    }
   ],
   "source": [
    "myfile = open(\"HighScore.txt\", \"r\")\n",
    "sum = 0\n",
    "for i in range(10): \n",
    "    text = myfile.readline()\n",
    "    score = myfile.readline()\n",
    "    sum += int(score)\n",
    "myfile.close()\n",
    "print(sum)"
   ]
  },
  {
   "cell_type": "markdown",
   "id": "fcee9c05",
   "metadata": {},
   "source": [
    "#### Create an array with 10 elements in which you will store all the player names and scores from the highscore.txt file. Name the array Filedata"
   ]
  },
  {
   "cell_type": "code",
   "execution_count": 21,
   "id": "f6633da4",
   "metadata": {},
   "outputs": [],
   "source": [
    "Filedata = [ [\"\"]*2 for i in range(10) ]\n",
    "myfile = open(\"HighScore.txt\")\n",
    "for i in range(10): \n",
    "    name = myfile.readline().strip()\n",
    "    score = myfile.readline().strip()\n",
    "    Filedata[i][0] = name\n",
    "    Filedata[i][1] = score "
   ]
  },
  {
   "cell_type": "code",
   "execution_count": 23,
   "id": "c8f08ffb",
   "metadata": {},
   "outputs": [
    {
     "name": "stdout",
     "output_type": "stream",
     "text": [
      "[['FYI', '10000'], ['ABC', '9092'], ['KEL', '8500'], ['PAI', '8203'], ['BBB', '7980'], ['ACE', '7246'], ['GKL', '7001'], ['JSI', '6490'], ['EIF', '6003'], ['DIS', '2000']]\n"
     ]
    }
   ],
   "source": [
    "print(Filedata)\n",
    "myfile.close()\n"
   ]
  },
  {
   "cell_type": "markdown",
   "id": "71e4c5f0",
   "metadata": {},
   "source": [
    "# Writing a new file"
   ]
  },
  {
   "cell_type": "code",
   "execution_count": 24,
   "id": "b9dffbaa",
   "metadata": {},
   "outputs": [],
   "source": [
    "newfile = open(\"newFile.txt\", \"w\")\n",
    "newfile.write(\"Hello world!\")\n",
    "newfile.close()"
   ]
  },
  {
   "cell_type": "markdown",
   "id": "99bbc7a9",
   "metadata": {},
   "source": [
    "# Writing in an existing file"
   ]
  },
  {
   "cell_type": "code",
   "execution_count": 25,
   "id": "a2a6340b",
   "metadata": {},
   "outputs": [],
   "source": [
    "newfile = open(\"newFile.txt\", \"a\")\n",
    "newfile.write(\"Goodbye!\")\n",
    "newfile.close()"
   ]
  }
 ],
 "metadata": {
  "kernelspec": {
   "display_name": "Python 3",
   "language": "python",
   "name": "python3"
  },
  "language_info": {
   "codemirror_mode": {
    "name": "ipython",
    "version": 3
   },
   "file_extension": ".py",
   "mimetype": "text/x-python",
   "name": "python",
   "nbconvert_exporter": "python",
   "pygments_lexer": "ipython3",
   "version": "3.13.5"
  }
 },
 "nbformat": 4,
 "nbformat_minor": 5
}
